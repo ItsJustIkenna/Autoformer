{
 "cells": [
  {
   "cell_type": "code",
   "execution_count": null,
   "metadata": {},
   "outputs": [],
   "source": [
    "import numpy as np\n",
    "import matplotlib.pyplot as plt\n",
    "\n",
    "y_true = np.load('/root/workspace/Autoformer/results/Forex_96_96_Autoformer_custom_ftMS_sl96_ll48_pl96_dm512_nh8_el1_dl1_df2048_fc3_ebtimeF_dtTrue_Exp_0/true.npy')\n",
    "y_pred = np.load('/root/workspace/Autoformer/results/Forex_96_96_Autoformer_custom_ftMS_sl96_ll48_pl96_dm512_nh8_el1_dl1_df2048_fc3_ebtimeF_dtTrue_Exp_0/pred.npy')\n",
    "\n",
    "# Squeeze the arrays\n",
    "y_true = np.squeeze(y_true)\n",
    "y_pred = np.squeeze(y_pred)\n",
    "\n",
    "# Calculate the directional change for both actual and predicted values\n",
    "direction_true = np.sign(np.diff(y_true, axis=1))\n",
    "direction_pred = np.sign(np.diff(y_pred, axis=1))\n",
    "\n",
    "# Calculate the number of correctly predicted directions\n",
    "correct_directions = np.sum(direction_true == direction_pred)\n",
    "\n",
    "# Calculate the Directional Symmetry (DS)\n",
    "DS = correct_directions / np.prod(direction_true.shape)\n",
    "\n",
    "print(f\"Directional Accuracy (DS): {DS}\")"
   ]
  }
 ],
 "metadata": {
  "language_info": {
   "name": "python"
  },
  "orig_nbformat": 4
 },
 "nbformat": 4,
 "nbformat_minor": 2
}
